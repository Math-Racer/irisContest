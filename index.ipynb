{
 "cells": [
  {
   "cell_type": "markdown",
   "metadata": {},
   "source": [
    "Data Science Contest - Machine Learning with Iris Dataset\n",
    "---------------------------------------------------------\n",
    "Welcome to the Data Science Contest!\n",
    "Your goal is to build a machine learning model using the Iris dataset.\n",
    "Complete the coding tasks below to improve the accuracy of your model."
   ]
  },
  {
   "cell_type": "code",
   "execution_count": null,
   "metadata": {},
   "outputs": [],
   "source": [
    "\n",
    "# Step 1: Import necessary libraries\n",
    "import numpy as np\n",
    "import pandas as pd\n",
    "from sklearn import datasets\n",
    "from sklearn.model_selection import train_test_split\n",
    "from sklearn.preprocessing import StandardScaler\n",
    "from sklearn.ensemble import RandomForestClassifier\n",
    "from sklearn.metrics import accuracy_score, classification_report, confusion_matrix\n",
    "import matplotlib.pyplot as plt\n",
    "import seaborn as sns\n"
   ]
  },
  {
   "cell_type": "code",
   "execution_count": null,
   "metadata": {},
   "outputs": [],
   "source": [
    "\n",
    "# Step 2: Load the Iris dataset\n",
    "iris = datasets.load_iris()\n",
    "X = iris.data\n",
    "y = iris.target\n",
    "\n",
    "# Convert to DataFrame for easier handling\n",
    "df = pd.DataFrame(data=X, columns=iris.feature_names)\n",
    "df['target'] = y\n",
    "\n",
    "# Display the first few rows of the dataset\n",
    "print(\"Here are the first few rows of the dataset:\")\n",
    "df.head()\n"
   ]
  },
  {
   "cell_type": "code",
   "execution_count": null,
   "metadata": {},
   "outputs": [],
   "source": [
    "\n",
    "# Step 3: Split the dataset into training and testing sets\n",
    "X_train, X_test, y_train, y_test = train_test_split(X, y, test_size=0.2, random_state=42)\n"
   ]
  },
  {
   "cell_type": "code",
   "execution_count": null,
   "metadata": {},
   "outputs": [],
   "source": [
    "\n",
    "# Step 4: Preprocess the data (Scaling features)\n",
    "scaler = StandardScaler()\n",
    "X_train_scaled = scaler.fit_transform(X_train)\n",
    "X_test_scaled = scaler.transform(X_test)\n"
   ]
  },
  {
   "cell_type": "code",
   "execution_count": null,
   "metadata": {},
   "outputs": [],
   "source": [
    "\n",
    "# Step 5: Train the initial model (Random Forest)\n",
    "model = RandomForestClassifier(random_state=42)\n",
    "model.fit(X_train_scaled, y_train)\n"
   ]
  },
  {
   "cell_type": "code",
   "execution_count": null,
   "metadata": {},
   "outputs": [],
   "source": [
    "\n",
    "# Step 6: Make predictions on the test set\n",
    "y_pred = model.predict(X_test_scaled)\n"
   ]
  },
  {
   "cell_type": "code",
   "execution_count": null,
   "metadata": {},
   "outputs": [],
   "source": [
    "\n",
    "# Step 7: Evaluate the model\n",
    "accuracy = accuracy_score(y_test, y_pred)\n",
    "print(f\"Initial Accuracy: {accuracy * 100:.2f}%\")\n"
   ]
  },
  {
   "cell_type": "code",
   "execution_count": null,
   "metadata": {},
   "outputs": [],
   "source": [
    "\n",
    "# Task 1: Improve the model accuracy\n",
    "# You are free to change the model, tune hyperparameters, or try different algorithms.\n",
    "# You can also use techniques like cross-validation, feature selection, etc.\n",
    "\n",
    "# Your Code for Task 1\n",
    "# -----------------------------------\n",
    "# Example: Hyperparameter tuning or trying another model\n",
    "# Feel free to edit the code below.\n",
    "\n",
    "# Using K-Nearest Neighbors as an example\n",
    "from sklearn.neighbors import KNeighborsClassifier\n",
    "\n",
    "# Initialize the KNN model with different hyperparameters\n",
    "knn_model = KNeighborsClassifier(n_neighbors=5)\n",
    "knn_model.fit(X_train_scaled, y_train)\n",
    "knn_pred = knn_model.predict(X_test_scaled)\n",
    "\n",
    "# Evaluate the KNN model\n",
    "knn_accuracy = accuracy_score(y_test, knn_pred)\n",
    "print(f\"KNN Model Accuracy: {knn_accuracy * 100:.2f}%\")\n"
   ]
  },
  {
   "cell_type": "code",
   "execution_count": null,
   "metadata": {},
   "outputs": [],
   "source": [
    "\n",
    "# Step 8: Additional tasks for improving accuracy\n",
    "# - Experiment with different algorithms (SVM, Decision Tree, etc.)\n",
    "# - Implement cross-validation and compare results.\n",
    "# - Use GridSearchCV for hyperparameter tuning.\n",
    "\n",
    "# Your Code for Additional Tasks\n",
    "# -----------------------------------\n",
    "# Example: Implementing GridSearchCV for hyperparameter tuning\n",
    "from sklearn.model_selection import GridSearchCV\n",
    "\n",
    "# Define the model and parameters for GridSearchCV\n",
    "param_grid = {\n",
    "    'n_neighbors': [3, 5, 7, 9],\n",
    "    'weights': ['uniform', 'distance']\n",
    "}\n",
    "grid_search = GridSearchCV(KNeighborsClassifier(), param_grid, cv=5)\n",
    "grid_search.fit(X_train_scaled, y_train)\n",
    "\n",
    "# Best parameters and accuracy\n",
    "best_knn_model = grid_search.best_estimator_\n",
    "best_knn_pred = best_knn_model.predict(X_test_scaled)\n",
    "best_knn_accuracy = accuracy_score(y_test, best_knn_pred)\n",
    "print(f\"Best KNN Model Accuracy: {best_knn_accuracy * 100:.2f}%\")\n",
    "\n",
    "# Final Notes:\n",
    "# - The participant with the highest accuracy at the end of the contest wins.\n",
    "# - Document any changes you make to the code.\n"
   ]
  }
 ],
 "metadata": {
  "language_info": {
   "name": "python"
  }
 },
 "nbformat": 4,
 "nbformat_minor": 2
}
